{
 "cells": [
  {
   "cell_type": "code",
   "execution_count": 1,
   "id": "c0f79635-f6ae-4046-b47b-f0e44c0c44a6",
   "metadata": {},
   "outputs": [
    {
     "name": "stdout",
     "output_type": "stream",
     "text": [
      "HOPE AI\n"
     ]
    }
   ],
   "source": [
    "print(\"HOPE AI\")"
   ]
  },
  {
   "cell_type": "code",
   "execution_count": 3,
   "id": "a15b6ba1-abb5-44f4-80f4-db33ce5ce842",
   "metadata": {},
   "outputs": [
    {
     "name": "stdin",
     "output_type": "stream",
     "text": [
      "Enter your institute name? : HOPE AI\n"
     ]
    }
   ],
   "source": [
    "institute_name = input(\"Enter your institute name? :\")"
   ]
  },
  {
   "cell_type": "code",
   "execution_count": 4,
   "id": "cf9bcd0d-ede0-4aba-aafb-e40a219771d1",
   "metadata": {},
   "outputs": [
    {
     "name": "stdin",
     "output_type": "stream",
     "text": [
      "Enter your name:  Sai Vennela Yadavalli\n",
      "Enter your age:  28\n",
      "Enter your school name:  Jaya School\n",
      "Enter your degree:  B.Com (ISM)\n"
     ]
    }
   ],
   "source": [
    "name = input(\"Enter your name: \")\n",
    "age = input(\"Enter your age: \")\n",
    "school_name = input(\"Enter your school name: \")\n",
    "degree = input(\"Enter your degree: \")"
   ]
  },
  {
   "cell_type": "code",
   "execution_count": 5,
   "id": "62aa1847-c0a5-465c-8d56-90309b0c41f6",
   "metadata": {},
   "outputs": [
    {
     "name": "stdout",
     "output_type": "stream",
     "text": [
      "a =  43\n",
      "b =  34\n",
      "add =  77\n"
     ]
    }
   ],
   "source": [
    "a = 43\n",
    "b = 34\n",
    "add = a+b\n",
    "\n",
    "print(\"a = \",a)\n",
    "print(\"b = \",b)\n",
    "print(\"add = \",add)"
   ]
  },
  {
   "cell_type": "code",
   "execution_count": 6,
   "id": "36493c1f-13bc-40c8-9de5-29bb4638d440",
   "metadata": {},
   "outputs": [
    {
     "name": "stdout",
     "output_type": "stream",
     "text": [
      "a =  43\n",
      "b =  34\n",
      "Sub =  9\n"
     ]
    }
   ],
   "source": [
    "a = 43\n",
    "b = 34\n",
    "Sub = a-b\n",
    "\n",
    "print(\"a = \",a)\n",
    "print(\"b = \",b)\n",
    "print(\"Sub = \",Sub)"
   ]
  },
  {
   "cell_type": "code",
   "execution_count": 7,
   "id": "aee980a0-3b50-4493-9750-c1a9402d66fa",
   "metadata": {},
   "outputs": [
    {
     "name": "stdout",
     "output_type": "stream",
     "text": [
      "a =  63\n",
      "b =  97\n",
      "Mul =  6111\n"
     ]
    }
   ],
   "source": [
    "a = 63\n",
    "b = 97\n",
    "Mul = a*b\n",
    "\n",
    "print(\"a = \",a)\n",
    "print(\"b = \",b)\n",
    "print(\"Mul = \",Mul)"
   ]
  },
  {
   "cell_type": "code",
   "execution_count": 8,
   "id": "32a57a12-28d5-40dd-9094-15d5d9a46c66",
   "metadata": {},
   "outputs": [
    {
     "name": "stdout",
     "output_type": "stream",
     "text": [
      "a =  76\n",
      "b =  31\n",
      "Float Div =  2.4516129032258065\n"
     ]
    }
   ],
   "source": [
    "a = 76\n",
    "b = 31\n",
    "div = a/b\n",
    "\n",
    "print(\"a = \",a)\n",
    "print(\"b = \",b)\n",
    "print(\"Float Div = \",div)"
   ]
  },
  {
   "cell_type": "code",
   "execution_count": 10,
   "id": "dbc8dff8-1e93-4712-a25e-510b1b53fd81",
   "metadata": {},
   "outputs": [
    {
     "name": "stdout",
     "output_type": "stream",
     "text": [
      "a =  76\n",
      "b =  31\n",
      "Floor Div =  2\n"
     ]
    }
   ],
   "source": [
    "a = 76\n",
    "b = 31\n",
    "floor_div = a//b\n",
    "\n",
    "print(\"a = \",a)\n",
    "print(\"b = \",b)\n",
    "print(\"Floor Div = \",floor_div)"
   ]
  },
  {
   "cell_type": "code",
   "execution_count": 11,
   "id": "b2925add-e5a9-48c1-ac69-cc131b60f660",
   "metadata": {},
   "outputs": [
    {
     "name": "stdout",
     "output_type": "stream",
     "text": [
      "a =  76\n",
      "b =  31\n",
      "Modulo =  14\n"
     ]
    }
   ],
   "source": [
    "a = 76\n",
    "b = 31\n",
    "modulo = a%b\n",
    "\n",
    "print(\"a = \",a)\n",
    "print(\"b = \",b)\n",
    "print(\"Modulo = \",modulo)"
   ]
  },
  {
   "cell_type": "code",
   "execution_count": 12,
   "id": "05f633b1-763c-4ad3-85c0-540d799442b8",
   "metadata": {},
   "outputs": [
    {
     "name": "stdout",
     "output_type": "stream",
     "text": [
      "a =  4\n",
      "b =  4\n",
      "Power =  256\n"
     ]
    }
   ],
   "source": [
    "a = 4\n",
    "b = 4\n",
    "power = a**b\n",
    "\n",
    "print(\"a = \",a)\n",
    "print(\"b = \",b)\n",
    "print(\"Power = \",power)"
   ]
  }
 ],
 "metadata": {
  "kernelspec": {
   "display_name": "Python 3 (ipykernel)",
   "language": "python",
   "name": "python3"
  },
  "language_info": {
   "codemirror_mode": {
    "name": "ipython",
    "version": 3
   },
   "file_extension": ".py",
   "mimetype": "text/x-python",
   "name": "python",
   "nbconvert_exporter": "python",
   "pygments_lexer": "ipython3",
   "version": "3.12.7"
  }
 },
 "nbformat": 4,
 "nbformat_minor": 5
}
