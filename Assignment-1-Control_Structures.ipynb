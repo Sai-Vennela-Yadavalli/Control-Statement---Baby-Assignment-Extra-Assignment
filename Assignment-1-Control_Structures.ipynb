{
 "cells": [
  {
   "cell_type": "code",
   "execution_count": 1,
   "id": "4a6920d4-8cc1-40e4-ba6a-a39cdaf709b4",
   "metadata": {},
   "outputs": [
    {
     "name": "stdout",
     "output_type": "stream",
     "text": [
      "Welcome to Assignment-1\n"
     ]
    }
   ],
   "source": [
    "print(\"Welcome to Assignment-1\")"
   ]
  },
  {
   "cell_type": "code",
   "execution_count": 2,
   "id": "31b920c6-69c2-4eb6-99f9-ac89cbca008e",
   "metadata": {},
   "outputs": [
    {
     "name": "stdout",
     "output_type": "stream",
     "text": [
      "Num1= 10\n",
      "Num2= 30\n",
      "Add= 40\n"
     ]
    }
   ],
   "source": [
    "Num1 = 10\n",
    "Num2 = 30\n",
    "Add = Num1 + Num2\n",
    "\n",
    "print(\"Num1=\", Num1)\n",
    "print(\"Num2=\", Num2)\n",
    "print(\"Add=\", Add)"
   ]
  },
  {
   "cell_type": "code",
   "execution_count": 3,
   "id": "cf403c4a-45d0-402b-8331-f2ea3b86c12a",
   "metadata": {},
   "outputs": [
    {
     "name": "stdin",
     "output_type": "stream",
     "text": [
      "Enter the BMI Index:  34\n"
     ]
    },
    {
     "name": "stdout",
     "output_type": "stream",
     "text": [
      "Very overweight\n"
     ]
    }
   ],
   "source": [
    "BMI_Index = int(input(\"Enter the BMI Index: \"))\n",
    "\n",
    "if BMI_Index < 18.5:\n",
    "  print(\"underweight\")\n",
    "\n",
    "elif BMI_Index > 18.5 and BMI_Index < 24.9:\n",
    "  print(\"normal\")\n",
    "\n",
    "elif BMI_Index > 25.0 and BMI_Index < 29.9:\n",
    "  print(\"overweight\")\n",
    "\n",
    "else:\n",
    "  print(\"Very overweight\")"
   ]
  },
  {
   "cell_type": "code",
   "execution_count": null,
   "id": "9952b255-cbd7-4d1b-ba4a-d3601ef55e65",
   "metadata": {},
   "outputs": [],
   "source": []
  }
 ],
 "metadata": {
  "kernelspec": {
   "display_name": "Python 3 (ipykernel)",
   "language": "python",
   "name": "python3"
  },
  "language_info": {
   "codemirror_mode": {
    "name": "ipython",
    "version": 3
   },
   "file_extension": ".py",
   "mimetype": "text/x-python",
   "name": "python",
   "nbconvert_exporter": "python",
   "pygments_lexer": "ipython3",
   "version": "3.12.7"
  }
 },
 "nbformat": 4,
 "nbformat_minor": 5
}
