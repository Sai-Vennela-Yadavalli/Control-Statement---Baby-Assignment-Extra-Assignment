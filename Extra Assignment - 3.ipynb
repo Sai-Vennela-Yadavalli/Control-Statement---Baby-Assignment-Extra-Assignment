{
 "cells": [
  {
   "cell_type": "code",
   "execution_count": 6,
   "id": "cddc7ddd-4074-45e0-9ce0-085e8f25870d",
   "metadata": {},
   "outputs": [
    {
     "name": "stdin",
     "output_type": "stream",
     "text": [
      "Value 10\n"
     ]
    },
    {
     "name": "stdout",
     "output_type": "stream",
     "text": [
      "Correct\n"
     ]
    }
   ],
   "source": [
    "i = int(input(\"Value\"))\n",
    "\n",
    "if i == 10:\n",
    "    print(\"Correct\")\n",
    "    \n",
    "else:\n",
    "    print(\"Incorrect\")\n"
   ]
  },
  {
   "cell_type": "code",
   "execution_count": 5,
   "id": "2abe374e-4c91-445d-b718-7462c9b7f30c",
   "metadata": {},
   "outputs": [
    {
     "name": "stdin",
     "output_type": "stream",
     "text": [
      "Enter the password HOPE@123\n"
     ]
    },
    {
     "name": "stdout",
     "output_type": "stream",
     "text": [
      "Your Password is Correct\n"
     ]
    }
   ],
   "source": [
    "password = input(\"Enter the password\")\n",
    "\n",
    "if password == \"HOPE@123\":\n",
    "    print(\"Your Password is Correct\")\n",
    "    \n",
    "else:\n",
    "    print(\"Please enter the correct password\")"
   ]
  },
  {
   "cell_type": "code",
   "execution_count": 10,
   "id": "928f416d-b532-47a2-ae98-7307ba8f43a1",
   "metadata": {},
   "outputs": [
    {
     "name": "stdin",
     "output_type": "stream",
     "text": [
      "Age:  82\n"
     ]
    },
    {
     "name": "stdout",
     "output_type": "stream",
     "text": [
      "Senior Citizen\n"
     ]
    }
   ],
   "source": [
    "age = int(input(\"Age: \"))\n",
    "\n",
    "if age < 18:\n",
    "    print(\"Children\")\n",
    "\n",
    "elif age >= 18 and age <30:\n",
    "    print(\"Adult\")\n",
    "\n",
    "elif age >= 30 and age <60:\n",
    "    print(\"Citizen\")\n",
    "\n",
    "else:\n",
    "    print(\"Senior Citizen\")"
   ]
  },
  {
   "cell_type": "code",
   "execution_count": 13,
   "id": "606a59ae-c9e1-4a76-b878-e6c4ab7f932a",
   "metadata": {},
   "outputs": [
    {
     "name": "stdin",
     "output_type": "stream",
     "text": [
      "Enter any number:  -955\n"
     ]
    },
    {
     "name": "stdout",
     "output_type": "stream",
     "text": [
      "Number is Negative\n"
     ]
    }
   ],
   "source": [
    "num = int(input(\"Enter any number: \"))\n",
    "\n",
    "if num > 0:\n",
    "    print(\"Number is Positive\")\n",
    "\n",
    "else:\n",
    "    print(\"Number is Negative\")"
   ]
  },
  {
   "cell_type": "code",
   "execution_count": 15,
   "id": "f9aceec3-39cf-4e59-b677-618c7e41ed0a",
   "metadata": {},
   "outputs": [
    {
     "name": "stdin",
     "output_type": "stream",
     "text": [
      "Enter a number to check:  259\n"
     ]
    },
    {
     "name": "stdout",
     "output_type": "stream",
     "text": [
      "Number is not divisible by 5\n"
     ]
    }
   ],
   "source": [
    "num1 = int(input(\"Enter a number to check: \"))\n",
    "\n",
    "if (num1 % 5) == 0:\n",
    "    print(\"Number is divisible by 5\")\n",
    "\n",
    "else:\n",
    "    print(\"Number is not divisible by 5\")"
   ]
  }
 ],
 "metadata": {
  "kernelspec": {
   "display_name": "Python 3 (ipykernel)",
   "language": "python",
   "name": "python3"
  },
  "language_info": {
   "codemirror_mode": {
    "name": "ipython",
    "version": 3
   },
   "file_extension": ".py",
   "mimetype": "text/x-python",
   "name": "python",
   "nbconvert_exporter": "python",
   "pygments_lexer": "ipython3",
   "version": "3.12.7"
  }
 },
 "nbformat": 4,
 "nbformat_minor": 5
}
