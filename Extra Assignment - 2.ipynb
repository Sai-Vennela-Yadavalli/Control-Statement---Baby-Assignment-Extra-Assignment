{
 "cells": [
  {
   "cell_type": "code",
   "execution_count": 1,
   "id": "2b90d5b1-1e9d-42b8-872d-5feedcd3d418",
   "metadata": {},
   "outputs": [
    {
     "name": "stdout",
     "output_type": "stream",
     "text": [
      "0\n",
      "1\n",
      "2\n",
      "3\n",
      "4\n",
      "5\n",
      "6\n",
      "7\n",
      "8\n",
      "9\n",
      "10\n",
      "11\n",
      "12\n",
      "13\n",
      "14\n",
      "15\n",
      "16\n",
      "17\n",
      "18\n",
      "19\n"
     ]
    }
   ],
   "source": [
    "for num in range(0,20):\n",
    "    print(num)"
   ]
  },
  {
   "cell_type": "code",
   "execution_count": 2,
   "id": "09106fa7-68b2-4f7d-bfa5-69283fbf8caf",
   "metadata": {},
   "outputs": [
    {
     "name": "stdout",
     "output_type": "stream",
     "text": [
      "10 11 12 13 14 15 16 17 18 19 "
     ]
    }
   ],
   "source": [
    "for num in range(10,20):\n",
    "    print(num, end = \" \")"
   ]
  },
  {
   "cell_type": "code",
   "execution_count": 3,
   "id": "ae5f7d96-5066-48a5-bada-2ad761996151",
   "metadata": {},
   "outputs": [
    {
     "name": "stdout",
     "output_type": "stream",
     "text": [
      "Number of item in the List:  7\n"
     ]
    }
   ],
   "source": [
    "num1 = [10, 20, 14, 55, 43, 87, 76]\n",
    "num1_len = len(num1)\n",
    "\n",
    "print(\"Number of item in the List: \", num1_len)"
   ]
  },
  {
   "cell_type": "code",
   "execution_count": 4,
   "id": "fed7b6a7-e2a8-4ae6-81cc-07317d059558",
   "metadata": {},
   "outputs": [
    {
     "name": "stdout",
     "output_type": "stream",
     "text": [
      "A\n",
      "r\n",
      "t\n",
      "i\n",
      "f\n",
      "i\n",
      "c\n",
      "i\n",
      "a\n",
      "l\n",
      " \n",
      "I\n",
      "n\n",
      "t\n",
      "e\n",
      "l\n",
      "l\n",
      "i\n",
      "g\n",
      "e\n",
      "n\n",
      "c\n",
      "e\n"
     ]
    }
   ],
   "source": [
    "text = \"Artificial Intelligence\"\n",
    "\n",
    "for name in text:\n",
    "    print(name)"
   ]
  },
  {
   "cell_type": "code",
   "execution_count": 5,
   "id": "8d8c107b-d19f-4b29-97e0-58870c6e5d62",
   "metadata": {},
   "outputs": [
    {
     "name": "stdin",
     "output_type": "stream",
     "text": [
      "-Your Name -  Sai Vennela Yadavalli\n",
      "-Your Age -  28\n",
      "-Your Profession -  Salaried\n"
     ]
    }
   ],
   "source": [
    "name = input(\"-Your Name - \")\n",
    "age = input(\"-Your Age - \")\n",
    "profession = input(\"-Your Profession - \")"
   ]
  },
  {
   "cell_type": "code",
   "execution_count": 6,
   "id": "47b3cd29-ab6e-4dfc-bc41-c10bd783c5a6",
   "metadata": {},
   "outputs": [
    {
     "name": "stdout",
     "output_type": "stream",
     "text": [
      "(1, 'Welcome', 2, 'Hope')\n"
     ]
    }
   ],
   "source": [
    "tup = (1, 'Welcome', 2, 'Hope')\n",
    "\n",
    "print(tup)"
   ]
  },
  {
   "cell_type": "code",
   "execution_count": 9,
   "id": "0bb2df29-b08e-4a03-82c6-207b1f12ccf2",
   "metadata": {},
   "outputs": [
    {
     "name": "stdout",
     "output_type": "stream",
     "text": [
      "(0, 1, 2, 3) , ('Python', 'Hope')\n"
     ]
    }
   ],
   "source": [
    "Tuple1 = (0,1,2,3)\n",
    "Tuple2 = ('Python', 'Hope')\n",
    "\n",
    "print(Tuple1, \",\", Tuple2)"
   ]
  },
  {
   "cell_type": "code",
   "execution_count": 12,
   "id": "f4a93583-58c6-42f5-9621-d63bc4cf9480",
   "metadata": {},
   "outputs": [
    {
     "name": "stdout",
     "output_type": "stream",
     "text": [
      "20 is Even\n",
      "10 is Even\n",
      "16 is Even\n",
      "276 is Even\n",
      "188 is Even\n"
     ]
    }
   ],
   "source": [
    "num2 = [20,10,16,19,25,1,276,188]\n",
    "\n",
    "for number in num2:\n",
    "    if (number % 2) == 0:\n",
    "        print(number, \"is Even\")"
   ]
  },
  {
   "cell_type": "code",
   "execution_count": 13,
   "id": "87cbc100-d0a0-4018-8a8e-d2ff3ec67b4e",
   "metadata": {},
   "outputs": [
    {
     "name": "stdout",
     "output_type": "stream",
     "text": [
      "19 is Odd\n",
      "25 is Odd\n",
      "1 is Odd\n"
     ]
    }
   ],
   "source": [
    "num3 = [20,10,16,19,25,1,276,188]\n",
    "\n",
    "for number in num2:\n",
    "    if (number % 2) != 0:\n",
    "        print(number, \"is Odd\")"
   ]
  }
 ],
 "metadata": {
  "kernelspec": {
   "display_name": "Python 3 (ipykernel)",
   "language": "python",
   "name": "python3"
  },
  "language_info": {
   "codemirror_mode": {
    "name": "ipython",
    "version": 3
   },
   "file_extension": ".py",
   "mimetype": "text/x-python",
   "name": "python",
   "nbconvert_exporter": "python",
   "pygments_lexer": "ipython3",
   "version": "3.12.7"
  }
 },
 "nbformat": 4,
 "nbformat_minor": 5
}
